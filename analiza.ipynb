{
 "cells": [
  {
   "cell_type": "code",
   "metadata": {},
   "source": [
    "# Importing libraries\n",
    "import pandas as pd\n",
    "import numpy as np\n",
    "import matplotlib.pyplot as plt\n",
    "import seaborn as sns\n",
    "import scipy.stats as stats\n",
    "import statsmodels.api as sm\n",
    "import gdown\n",
    "from thefuzz import process"
   ],
   "outputs": [],
   "execution_count": null
  },
  {
   "metadata": {},
   "cell_type": "code",
   "source": [
    "#Downloading data\n",
    "file_id_1 = '1s0zEHlvgbIr4AKruko2yFQymK_Pp1QNi'\n",
    "file_id_2 = '1sTnKn_XSgZ_8uzNo8INDtmz9WjIqziYG'\n",
    "url_1 = f\"https://drive.google.com/uc?id={file_id_1}\"\n",
    "url_2 = f\"https://drive.google.com/uc?id={file_id_2}\"\n",
    "output_1 = 'data_dv.csv'\n",
    "output_2 = 'data_ev.csv'\n",
    "gdown.download(url_1, output_1, quiet=False)\n",
    "gdown.download(url_2, output_2, quiet=False)\n",
    "df1 = pd.read_csv(output_1)\n",
    "df2 = pd.read_csv(output_2)\n",
    "\n",
    "df1.head()\n",
    "df2.head()\n",
    "df1['disitrict_name'] = df1['disitrict_name'].astype(str)\n",
    "df2['Disitrict'] = df2['Disitrict'].astype(str)\n",
    "df2['district_clean'] = df2['Disitrict'].apply(lambda x:process.extractOne(x,df1['disitrict_name'])[0])\n",
    "df_merged = df1.merge(df2,left_on='disitrict_name',right_on='district_clean',how='inner')\n",
    "df_merged.head()\n",
    "df_merged.rename(columns = {'disitrict_name':'district_name'},inplace=True)\n",
    "df_merged.drop(columns=['Disitrict','district_clean'], inplace=True)\n",
    "df_merged.dropna(inplace=True)\n",
    "df_merged.info()\n",
    "float_list = ['salary','education_expenses']\n",
    "for i in float_list:\n",
    "    df_merged[i] = df_merged[i].astype(str)\n",
    "    df_merged[i] = df_merged[i].apply(lambda x:x.replace(',',''))\n",
    "    df_merged[i] = df_merged[i].astype(float)\n",
    "#df_merged.head()\n"
   ],
   "outputs": [],
   "execution_count": null
  },
  {
   "metadata": {},
   "cell_type": "code",
   "source": [
    "#Linear regression OLS method\n",
    "Y = df_merged['mean_score']\n",
    "ev_OLS = ['salary','education_expenses','divorces']\n",
    "X = df_merged[ev_OLS]\n",
    "X = sm.add_constant(X)\n",
    "model = sm.OLS(Y,X)\n",
    "results = model.fit()\n",
    "print(results.summary())\n"
   ],
   "outputs": [],
   "execution_count": null
  }
 ],
 "metadata": {
  "kernelspec": {
   "display_name": "base",
   "language": "python",
   "name": "python3"
  },
  "language_info": {
   "codemirror_mode": {
    "name": "ipython",
    "version": 3
   },
   "file_extension": ".py",
   "mimetype": "text/x-python",
   "name": "python",
   "nbconvert_exporter": "python",
   "pygments_lexer": "ipython3",
   "version": "3.12.7"
  }
 },
 "nbformat": 4,
 "nbformat_minor": 2
}
