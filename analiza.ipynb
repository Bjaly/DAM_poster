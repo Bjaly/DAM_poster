{
 "cells": [
  {
   "cell_type": "code",
   "metadata": {},
   "source": [
    "# Importing libraries\n",
    "import pandas as pd\n",
    "import numpy as np\n",
    "import matplotlib.pyplot as plt\n",
    "import seaborn as sns\n",
    "import scipy.stats as stats\n",
    "import statsmodels.api as sm\n",
    "import gdown\n",
    "from thefuzz import process"
   ],
   "outputs": [],
   "execution_count": null
  },
  {
   "metadata": {},
   "cell_type": "code",
   "source": [
    "#Downloading data\n",
    "# Google drive files id\n",
    "file_id_1 = '1s0zEHlvgbIr4AKruko2yFQymK_Pp1QNi'\n",
    "file_id_2 = '1sTnKn_XSgZ_8uzNo8INDtmz9WjIqziYG'\n",
    "file_id_3 = '1WuCNd7d4ZUJ8OQPmGtvMk_2Fasr9v0v2'\n",
    "\n",
    "# Google drive url patterns\n",
    "# Downloading data\n",
    "url_1 = f\"https://drive.google.com/uc?id={file_id_1}\"\n",
    "url_2 = f\"https://drive.google.com/uc?id={file_id_2}\"\n",
    "url_3 = f\"https://drive.google.com/uc?id={file_id_3}\"\n",
    "output_1 = 'data_dv.csv'\n",
    "output_2 = 'data_ev.csv'\n",
    "output_3 = 'data_ur.csv'\n",
    "gdown.download(url_1, output_1, quiet=False)\n",
    "gdown.download(url_2, output_2, quiet=False)\n",
    "gdown.download(url_3, output_3, quiet=False)\n",
    "\n",
    "# Reading data\n",
    "df1 = pd.read_csv(output_1)\n",
    "df2 = pd.read_csv(output_2)\n",
    "df3 = pd.read_csv(output_3,delimiter=\";\")\n",
    "df1.head()\n",
    "df2.head()\n",
    "df3.head()\n",
    "\n",
    "# Merging data types\n",
    "df1['disitrict_name'] = df1['disitrict_name'].astype(str)\n",
    "df2['Disitrict'] = df2['Disitrict'].astype(str)\n",
    "df2['district_clean'] = df2['Disitrict'].apply(lambda x:process.extractOne(x,df1['disitrict_name'])[0])\n",
    "df_merged = df1.merge(df2,left_on='disitrict_name',right_on='district_clean',how='inner')\n",
    "df_merged.head()\n",
    "df_merged.rename(columns = {'disitrict_name':'district_name'},inplace=True)\n",
    "df_merged.drop(columns=['Disitrict','district_clean'], inplace=True)\n",
    "df_merged.dropna(inplace=True)\n",
    "df_merged.info()\n",
    "float_list = ['salary','education_expenses']\n",
    "for i in float_list:\n",
    "    df_merged[i] = df_merged[i].astype(str)\n",
    "    df_merged[i] = df_merged[i].apply(lambda x:x.replace(',',''))\n",
    "    df_merged[i] = df_merged[i].astype(float)\n",
    "#df_merged.head()\n"
   ],
   "outputs": [],
   "execution_count": null
  },
  {
   "metadata": {
    "ExecuteTime": {
     "end_time": "2025-03-25T10:40:18.833612Z",
     "start_time": "2025-03-25T10:40:18.818098Z"
    }
   },
   "cell_type": "code",
   "source": [
    "df3.head()\n",
    "df3.drop(columns= ['Kod','Unnamed: 3'],inplace=True)\n",
    "df3[['Nazwa','ogółem;2023;[%]']].astype(str,inplace=True)\n",
    "df3.rename(columns = {'ogółem;2023;[%]':'une_rate'},inplace=True)\n",
    "\n"
   ],
   "outputs": [
    {
     "data": {
      "text/plain": [
       "      Kod                  Nazwa ogółem;2023;[%]  Unnamed: 3\n",
       "0  201000   Powiat bolesławiecki             2,8         NaN\n",
       "1  202000  Powiat dzierżoniowski             5,6         NaN\n",
       "2  203000       Powiat głogowski             6,5         NaN\n",
       "3  204000        Powiat górowski            14,2         NaN\n",
       "4  205000        Powiat jaworski             9,7         NaN"
      ],
      "text/html": [
       "<div>\n",
       "<style scoped>\n",
       "    .dataframe tbody tr th:only-of-type {\n",
       "        vertical-align: middle;\n",
       "    }\n",
       "\n",
       "    .dataframe tbody tr th {\n",
       "        vertical-align: top;\n",
       "    }\n",
       "\n",
       "    .dataframe thead th {\n",
       "        text-align: right;\n",
       "    }\n",
       "</style>\n",
       "<table border=\"1\" class=\"dataframe\">\n",
       "  <thead>\n",
       "    <tr style=\"text-align: right;\">\n",
       "      <th></th>\n",
       "      <th>Kod</th>\n",
       "      <th>Nazwa</th>\n",
       "      <th>ogółem;2023;[%]</th>\n",
       "      <th>Unnamed: 3</th>\n",
       "    </tr>\n",
       "  </thead>\n",
       "  <tbody>\n",
       "    <tr>\n",
       "      <th>0</th>\n",
       "      <td>201000</td>\n",
       "      <td>Powiat bolesławiecki</td>\n",
       "      <td>2,8</td>\n",
       "      <td>NaN</td>\n",
       "    </tr>\n",
       "    <tr>\n",
       "      <th>1</th>\n",
       "      <td>202000</td>\n",
       "      <td>Powiat dzierżoniowski</td>\n",
       "      <td>5,6</td>\n",
       "      <td>NaN</td>\n",
       "    </tr>\n",
       "    <tr>\n",
       "      <th>2</th>\n",
       "      <td>203000</td>\n",
       "      <td>Powiat głogowski</td>\n",
       "      <td>6,5</td>\n",
       "      <td>NaN</td>\n",
       "    </tr>\n",
       "    <tr>\n",
       "      <th>3</th>\n",
       "      <td>204000</td>\n",
       "      <td>Powiat górowski</td>\n",
       "      <td>14,2</td>\n",
       "      <td>NaN</td>\n",
       "    </tr>\n",
       "    <tr>\n",
       "      <th>4</th>\n",
       "      <td>205000</td>\n",
       "      <td>Powiat jaworski</td>\n",
       "      <td>9,7</td>\n",
       "      <td>NaN</td>\n",
       "    </tr>\n",
       "  </tbody>\n",
       "</table>\n",
       "</div>"
      ]
     },
     "execution_count": 5,
     "metadata": {},
     "output_type": "execute_result"
    }
   ],
   "execution_count": 5
  },
  {
   "metadata": {},
   "cell_type": "code",
   "source": [
    "#Linear regression OLS method\n",
    "Y = df_merged['mean_score']\n",
    "ev_OLS = ['salary','education_expenses','divorces']\n",
    "X = df_merged[ev_OLS]\n",
    "X = sm.add_constant(X)\n",
    "model = sm.OLS(Y,X)\n",
    "results = model.fit()\n",
    "print(results.summary())\n"
   ],
   "outputs": [],
   "execution_count": null
  }
 ],
 "metadata": {
  "kernelspec": {
   "display_name": "base",
   "language": "python",
   "name": "python3"
  },
  "language_info": {
   "codemirror_mode": {
    "name": "ipython",
    "version": 3
   },
   "file_extension": ".py",
   "mimetype": "text/x-python",
   "name": "python",
   "nbconvert_exporter": "python",
   "pygments_lexer": "ipython3",
   "version": "3.12.7"
  }
 },
 "nbformat": 4,
 "nbformat_minor": 2
}
