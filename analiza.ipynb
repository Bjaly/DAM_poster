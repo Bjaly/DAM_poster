{
 "cells": [
  {
   "cell_type": "code",
   "metadata": {
    "ExecuteTime": {
     "end_time": "2025-03-27T15:04:02.831528Z",
     "start_time": "2025-03-27T15:04:01.490142Z"
    }
   },
   "source": [
    "# Importing libraries\n",
    "import pandas as pd\n",
    "import numpy as np\n",
    "import matplotlib.pyplot as plt\n",
    "import seaborn as sns\n",
    "import gdown\n",
    "from thefuzz import process\n",
    "from sklearn.linear_model import LinearRegression\n",
    "from sklearn.metrics import mean_squared_error, r2_score, mean_absolute_error\n",
    "from sklearn.model_selection import train_test_split\n",
    "from sklearn.preprocessing import StandardScaler"
   ],
   "outputs": [],
   "execution_count": 1
  },
  {
   "metadata": {
    "ExecuteTime": {
     "end_time": "2025-03-27T15:04:20.551365Z",
     "start_time": "2025-03-27T15:04:02.852629Z"
    }
   },
   "cell_type": "code",
   "source": [
    "#Downloading data\n",
    "file_id_1 = '1s0zEHlvgbIr4AKruko2yFQymK_Pp1QNi'\n",
    "file_id_2 = '1sTnKn_XSgZ_8uzNo8INDtmz9WjIqziYG'\n",
    "file_id_3 = '1WuCNd7d4ZUJ8OQPmGtvMk_2Fasr9v0v2'\n",
    "url_1 = f\"https://drive.google.com/uc?id={file_id_1}\"\n",
    "url_2 = f\"https://drive.google.com/uc?id={file_id_2}\"\n",
    "url_3 = f\"https://drive.google.com/uc?id={file_id_3}\"\n",
    "output_1 = 'data_dv.csv'\n",
    "output_2 = 'data_ev.csv'\n",
    "output_3 = 'data_ur.csv'\n",
    "gdown.download(url_1, output_1, quiet=False)\n",
    "gdown.download(url_2, output_2, quiet=False)\n",
    "gdown.download(url_3, output_3, quiet=False)\n",
    "df1 = pd.read_csv(output_1)\n",
    "df2 = pd.read_csv(output_2)\n",
    "df3 = pd.read_csv(output_3,sep = ';')\n",
    "\n",
    "# Viewing data\n",
    "df1.head()\n",
    "df2.head()\n",
    "df3.head()\n",
    "\n",
    "#Cleaning data and changing name col\n",
    "df1['disitrict_name'] = df1['disitrict_name'].astype(str)\n",
    "df2['Disitrict'] = df2['Disitrict'].astype(str)\n",
    "df2['district_clean'] = df2['Disitrict'].apply(lambda x:process.extractOne(x,df1['disitrict_name'])[0])\n",
    "df3.drop(columns=['Kod','Unnamed: 3'], inplace=True)\n",
    "df3.rename(columns={'Nazwa':'district_name','ogółem;2023;[%]':'unemployment_rate'},inplace=True)\n",
    "df3['district_clean3'] = df3['district_name'].apply(lambda x: process.extractOne(x,df1['disitrict_name'])[0])\n",
    "\n",
    "#Merging data into one DF\n",
    "df_merged = df1.merge(df2,left_on='disitrict_name',right_on='district_clean',how='inner')\n",
    "df_merged = df_merged.merge(df3,left_on='disitrict_name',right_on='district_clean3', how='inner')\n",
    "df_merged.head()\n",
    "df_merged.rename(columns = {'disitrict_name':'district_name'},inplace=True)\n",
    "df_merged.drop(columns=['Disitrict','district_clean','district_clean3'], inplace=True)\n",
    "df_merged.dropna(inplace=True)\n",
    "df_merged.info()\n",
    "float_list = ['salary','education_expenses']\n",
    "for i in float_list:\n",
    "    df_merged[i] = df_merged[i].astype(str)\n",
    "    df_merged[i] = df_merged[i].apply(lambda x:x.replace(',',''))\n",
    "    df_merged[i] = df_merged[i].astype(float)\n",
    "\n",
    "df_merged['unemployment_rate'] = df_merged['unemployment_rate'].str.replace(',','.')\n",
    "df_merged['unemployment_rate'] = df_merged['unemployment_rate'].astype(float)\n",
    "df_merged.drop_duplicates(subset = ['district_name'], keep ='first', inplace = True)\n",
    "df_merged.head()\n"
   ],
   "outputs": [
    {
     "name": "stderr",
     "output_type": "stream",
     "text": [
      "Downloading...\n",
      "From: https://drive.google.com/uc?id=1s0zEHlvgbIr4AKruko2yFQymK_Pp1QNi\n",
      "To: C:\\Users\\dawid\\DataspellProjects\\DAM\\data_dv.csv\n",
      "100%|██████████| 9.14k/9.14k [00:00<00:00, 123kB/s]\n",
      "Downloading...\n",
      "From: https://drive.google.com/uc?id=1sTnKn_XSgZ_8uzNo8INDtmz9WjIqziYG\n",
      "To: C:\\Users\\dawid\\DataspellProjects\\DAM\\data_ev.csv\n",
      "100%|██████████| 17.4k/17.4k [00:00<00:00, 182kB/s]\n",
      "Downloading...\n",
      "From: https://drive.google.com/uc?id=1WuCNd7d4ZUJ8OQPmGtvMk_2Fasr9v0v2\n",
      "To: C:\\Users\\dawid\\DataspellProjects\\DAM\\data_ur.csv\n",
      "100%|██████████| 13.3k/13.3k [00:00<00:00, 147kB/s]\n"
     ]
    },
    {
     "name": "stdout",
     "output_type": "stream",
     "text": [
      "<class 'pandas.core.frame.DataFrame'>\n",
      "Index: 514 entries, 0 to 612\n",
      "Data columns (total 8 columns):\n",
      " #   Column              Non-Null Count  Dtype  \n",
      "---  ------              --------------  -----  \n",
      " 0   district_name       514 non-null    object \n",
      " 1   mean_score          514 non-null    float64\n",
      " 2   salary              514 non-null    object \n",
      " 3   education_expenses  514 non-null    object \n",
      " 4   year                514 non-null    float64\n",
      " 5   divorces            514 non-null    float64\n",
      " 6   district_name       514 non-null    object \n",
      " 7   unemployment_rate   514 non-null    object \n",
      "dtypes: float64(3), object(5)\n",
      "memory usage: 36.1+ KB\n"
     ]
    },
    {
     "data": {
      "text/plain": [
       "         district_name  mean_score   salary  education_expenses    year  \\\n",
       "0       aleksandrowski   71.580247  6019.18              857.55  2023.0   \n",
       "1            brodnicki   74.575000  5919.35              155.69  2023.0   \n",
       "2             bydgoski   47.770270  6461.57              635.18  2023.0   \n",
       "3            Bydgoszcz   72.275621  7478.19              566.55  2023.0   \n",
       "4  golubsko-dobrzy?ski   78.767857  6678.54              696.36  2023.0   \n",
       "\n",
       "   divorces               district_name  unemployment_rate  \n",
       "0      11.6       Powiat aleksandrowski               10.9  \n",
       "1      11.9            Powiat brodnicki                6.7  \n",
       "2      19.4             Powiat bydgoski                3.1  \n",
       "3      19.9         Powiat m. Bydgoszcz                2.2  \n",
       "4      10.1  Powiat golubsko-dobrzyński               10.2  "
      ],
      "text/html": [
       "<div>\n",
       "<style scoped>\n",
       "    .dataframe tbody tr th:only-of-type {\n",
       "        vertical-align: middle;\n",
       "    }\n",
       "\n",
       "    .dataframe tbody tr th {\n",
       "        vertical-align: top;\n",
       "    }\n",
       "\n",
       "    .dataframe thead th {\n",
       "        text-align: right;\n",
       "    }\n",
       "</style>\n",
       "<table border=\"1\" class=\"dataframe\">\n",
       "  <thead>\n",
       "    <tr style=\"text-align: right;\">\n",
       "      <th></th>\n",
       "      <th>district_name</th>\n",
       "      <th>mean_score</th>\n",
       "      <th>salary</th>\n",
       "      <th>education_expenses</th>\n",
       "      <th>year</th>\n",
       "      <th>divorces</th>\n",
       "      <th>district_name</th>\n",
       "      <th>unemployment_rate</th>\n",
       "    </tr>\n",
       "  </thead>\n",
       "  <tbody>\n",
       "    <tr>\n",
       "      <th>0</th>\n",
       "      <td>aleksandrowski</td>\n",
       "      <td>71.580247</td>\n",
       "      <td>6019.18</td>\n",
       "      <td>857.55</td>\n",
       "      <td>2023.0</td>\n",
       "      <td>11.6</td>\n",
       "      <td>Powiat aleksandrowski</td>\n",
       "      <td>10.9</td>\n",
       "    </tr>\n",
       "    <tr>\n",
       "      <th>1</th>\n",
       "      <td>brodnicki</td>\n",
       "      <td>74.575000</td>\n",
       "      <td>5919.35</td>\n",
       "      <td>155.69</td>\n",
       "      <td>2023.0</td>\n",
       "      <td>11.9</td>\n",
       "      <td>Powiat brodnicki</td>\n",
       "      <td>6.7</td>\n",
       "    </tr>\n",
       "    <tr>\n",
       "      <th>2</th>\n",
       "      <td>bydgoski</td>\n",
       "      <td>47.770270</td>\n",
       "      <td>6461.57</td>\n",
       "      <td>635.18</td>\n",
       "      <td>2023.0</td>\n",
       "      <td>19.4</td>\n",
       "      <td>Powiat bydgoski</td>\n",
       "      <td>3.1</td>\n",
       "    </tr>\n",
       "    <tr>\n",
       "      <th>3</th>\n",
       "      <td>Bydgoszcz</td>\n",
       "      <td>72.275621</td>\n",
       "      <td>7478.19</td>\n",
       "      <td>566.55</td>\n",
       "      <td>2023.0</td>\n",
       "      <td>19.9</td>\n",
       "      <td>Powiat m. Bydgoszcz</td>\n",
       "      <td>2.2</td>\n",
       "    </tr>\n",
       "    <tr>\n",
       "      <th>4</th>\n",
       "      <td>golubsko-dobrzy?ski</td>\n",
       "      <td>78.767857</td>\n",
       "      <td>6678.54</td>\n",
       "      <td>696.36</td>\n",
       "      <td>2023.0</td>\n",
       "      <td>10.1</td>\n",
       "      <td>Powiat golubsko-dobrzyński</td>\n",
       "      <td>10.2</td>\n",
       "    </tr>\n",
       "  </tbody>\n",
       "</table>\n",
       "</div>"
      ]
     },
     "execution_count": 2,
     "metadata": {},
     "output_type": "execute_result"
    }
   ],
   "execution_count": 2
  },
  {
   "metadata": {
    "ExecuteTime": {
     "end_time": "2025-03-27T15:09:50.308625Z",
     "start_time": "2025-03-27T15:09:50.282608Z"
    }
   },
   "cell_type": "code",
   "source": [
    "#Linear regression OLS method without scaling\n",
    "X = df_merged[['salary','education_expenses','unemployment_rate','divorces']]\n",
    "y = df_merged['mean_score']\n",
    "X_train, X_test, y_train, y_test = train_test_split(X, y, test_size = 0.2, random_state = 42)\n",
    "model_OLS = LinearRegression()\n",
    "model_OLS.fit(X_train, y_train)\n",
    "\n",
    "df_intercept = pd.DataFrame(model_OLS.intercept_,['Intercept'],columns=['Value'])\n",
    "df_coef = pd.DataFrame(model_OLS.coef_,X.columns,columns=['Value'])\n",
    "df_equation = pd.concat([df_intercept, df_coef],ignore_index=False)\n",
    "print(df_equation)\n",
    "print(model_OLS.(X_test, y_test))"
   ],
   "outputs": [
    {
     "name": "stdout",
     "output_type": "stream",
     "text": [
      "                        Value\n",
      "Intercept           65.434309\n",
      "salary               0.001831\n",
      "education_expenses  -0.002894\n",
      "unemployment_rate   -0.220634\n",
      "divorces            -0.519487\n",
      "0.04105142018350805\n"
     ]
    }
   ],
   "execution_count": 6
  },
  {
   "metadata": {
    "ExecuteTime": {
     "end_time": "2025-03-27T15:04:22.412067Z",
     "start_time": "2025-03-27T15:04:21.259954Z"
    }
   },
   "cell_type": "code",
   "source": "#plt.scatter(y=Y,x=df_merged['unemployment_rate'])",
   "outputs": [
    {
     "ename": "NameError",
     "evalue": "name 'Y' is not defined",
     "output_type": "error",
     "traceback": [
      "\u001B[1;31m---------------------------------------------------------------------------\u001B[0m",
      "\u001B[1;31mNameError\u001B[0m                                 Traceback (most recent call last)",
      "Cell \u001B[1;32mIn[4], line 1\u001B[0m\n\u001B[1;32m----> 1\u001B[0m plt\u001B[38;5;241m.\u001B[39mscatter(y\u001B[38;5;241m=\u001B[39m\u001B[43mY\u001B[49m,x\u001B[38;5;241m=\u001B[39mdf_merged[\u001B[38;5;124m'\u001B[39m\u001B[38;5;124munemployment_rate\u001B[39m\u001B[38;5;124m'\u001B[39m])\n",
      "\u001B[1;31mNameError\u001B[0m: name 'Y' is not defined"
     ]
    }
   ],
   "execution_count": 4
  }
 ],
 "metadata": {
  "kernelspec": {
   "display_name": "base",
   "language": "python",
   "name": "python3"
  },
  "language_info": {
   "codemirror_mode": {
    "name": "ipython",
    "version": 3
   },
   "file_extension": ".py",
   "mimetype": "text/x-python",
   "name": "python",
   "nbconvert_exporter": "python",
   "pygments_lexer": "ipython3",
   "version": "3.12.7"
  }
 },
 "nbformat": 4,
 "nbformat_minor": 2
}
